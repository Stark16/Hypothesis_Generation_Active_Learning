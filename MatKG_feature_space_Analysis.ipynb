{
 "cells": [
  {
   "cell_type": "code",
   "execution_count": 7,
   "metadata": {},
   "outputs": [
    {
     "name": "stderr",
     "output_type": "stream",
     "text": [
      "[nltk_data] Downloading package punkt to\n",
      "[nltk_data]     C:\\Users\\Stark\\AppData\\Roaming\\nltk_data...\n",
      "[nltk_data]   Package punkt is already up-to-date!\n"
     ]
    }
   ],
   "source": [
    "from arango import ArangoClient\n",
    "import pandas as pd\n",
    "import nltk\n",
    "from nltk.tokenize import sent_tokenize\n",
    "import json\n",
    "import os\n",
    "import random\n",
    "import numpy as np\n",
    "nltk.download('punkt')\n",
    "from tqdm import tqdm"
   ]
  },
  {
   "cell_type": "code",
   "execution_count": 2,
   "metadata": {},
   "outputs": [],
   "source": [
    "client = ArangoClient(hosts='http://localhost:8529')\n",
    "db = client.db('Database_Material_Science', username='root', password='praddy')\n",
    "entities = db.collection('entities')\n",
    "publications = db.collection('publications')\n",
    "edges = db.collection('publications_entities_edges')"
   ]
  },
  {
   "cell_type": "code",
   "execution_count": 3,
   "metadata": {},
   "outputs": [],
   "source": [
    "from matplotlib import pyplot as plt"
   ]
  },
  {
   "cell_type": "markdown",
   "metadata": {},
   "source": [
    "### Fetching the Distinct enitity classes in the dataset:"
   ]
  },
  {
   "cell_type": "code",
   "execution_count": 4,
   "metadata": {},
   "outputs": [
    {
     "data": {
      "text/plain": [
       "['APL', 'CHM', 'CMT', 'PRO', 'SPL']"
      ]
     },
     "execution_count": 4,
     "metadata": {},
     "output_type": "execute_result"
    }
   ],
   "source": [
    "QUERY_get_entity_classes = f\"\"\"\n",
    "                            FOR entity IN entities\n",
    "                                COLLECT entity_categories = entity.tag\n",
    "                                return entity_categories\n",
    "                            \"\"\"\n",
    "\n",
    "cursor = db.aql.execute(QUERY_get_entity_classes)\n",
    "entity_classes = list(cursor)\n",
    "entity_classes"
   ]
  },
  {
   "cell_type": "markdown",
   "metadata": {},
   "source": [
    "## Fetching all the `Entities` with the class `CHM` meaning Chemical/Material [Fetching all the chemicals in the database]"
   ]
  },
  {
   "cell_type": "code",
   "execution_count": 5,
   "metadata": {},
   "outputs": [
    {
     "data": {
      "text/plain": [
       "['D–F',\n",
       " 'O-Chlorophenol',\n",
       " 'Iodine',\n",
       " 'CH2Cl2',\n",
       " 'Aldehyde',\n",
       " 'Pd Metal',\n",
       " 'O',\n",
       " 'Hydrogen Sulfide',\n",
       " 'RuO2',\n",
       " 'Chlorides']"
      ]
     },
     "execution_count": 5,
     "metadata": {},
     "output_type": "execute_result"
    }
   ],
   "source": [
    "QUERY_get_chm = f\"\"\"\n",
    "                            FOR entity IN entities\n",
    "                                filter entity.tag == \"CHM\"\n",
    "                                return entity.name\n",
    "                            \"\"\"\n",
    "\n",
    "cursor = db.aql.execute(QUERY_get_chm)\n",
    "chm_entities = list(cursor)\n",
    "random.sample(chm_entities, 10)"
   ]
  },
  {
   "cell_type": "markdown",
   "metadata": {},
   "source": [
    "## Fetching all the the `Entities` with the class `PRO` meaning Property [Fetching all the properties in the database]"
   ]
  },
  {
   "cell_type": "code",
   "execution_count": 6,
   "metadata": {},
   "outputs": [
    {
     "data": {
      "text/plain": [
       "['Traction Force',\n",
       " 'Metallic State',\n",
       " 'Strain Energy',\n",
       " 'Current Speed',\n",
       " 'High Frequency Resistance',\n",
       " 'Axial Velocity',\n",
       " 'Surface Renewal',\n",
       " 'Dissolved Oxygen',\n",
       " 'Reaction Profile',\n",
       " 'Disordered']"
      ]
     },
     "execution_count": 6,
     "metadata": {},
     "output_type": "execute_result"
    }
   ],
   "source": [
    "QUERY_get_pro = f\"\"\"\n",
    "                    FOR entity IN entities\n",
    "                        filter entity.tag == \"PRO\"\n",
    "                        return entity.name\n",
    "                            \"\"\"\n",
    "cursor = db.aql.execute(QUERY_get_pro)\n",
    "pro_entities = list(cursor)\n",
    "random.sample(pro_entities, 10)"
   ]
  },
  {
   "cell_type": "code",
   "execution_count": 21,
   "metadata": {},
   "outputs": [
    {
     "name": "stdout",
     "output_type": "stream",
     "text": [
      "Top 2 occurring entries:\n",
      "Г: 1\n",
      "Failure Strength: 1\n"
     ]
    }
   ],
   "source": [
    "unique, counts = np.unique(pro_entities, return_counts=True)\n",
    "top_indices = np.argsort(counts)[::-1][:2]\n",
    "top_two_entries = unique[top_indices]\n",
    "top_two_counts = counts[top_indices]\n",
    "\n",
    "print(\"Top 2 occurring entries:\")\n",
    "for entry, count in zip(top_two_entries, top_two_counts):\n",
    "    print(f\"{entry}: {count}\")"
   ]
  },
  {
   "cell_type": "markdown",
   "metadata": {},
   "source": [
    "## Loading the 1990 dataset from Semantic-KG:"
   ]
  },
  {
   "cell_type": "code",
   "execution_count": 11,
   "metadata": {},
   "outputs": [],
   "source": [
    "def read_semanticKG(PATH_dataset_dir:str):\n",
    "    dataset_lines = []\n",
    "    for file in ['train_norm.txt', 'val_norm.txt']:\n",
    "        with open(os.path.join(PATH_dataset_dir, file), 'r', encoding='utf-8') as f:\n",
    "            lines = f.readlines()\n",
    "            dataset_lines.extend(lines)\n",
    "    return dataset_lines"
   ]
  },
  {
   "cell_type": "code",
   "execution_count": 21,
   "metadata": {},
   "outputs": [
    {
     "name": "stdout",
     "output_type": "stream",
     "text": [
      "10789\n"
     ]
    }
   ],
   "source": [
    "PATH_1990 = r\"D:\\College\\Research\\Prof_jamshid\\Hypothesis_Generation_Active_Learning\\datasets\\1990\"\n",
    "semantic_KG_1990 = read_semanticKG(PATH_1990)\n",
    "random.sample(semantic_KG_1990, 10)\n",
    "print(len(semantic_KG_1990))"
   ]
  },
  {
   "cell_type": "markdown",
   "metadata": {},
   "source": [
    "## Checking how many occurances are there in the 1990 dataset that has `CHM` and `PRO` from `Mat-KG`"
   ]
  },
  {
   "cell_type": "code",
   "execution_count": null,
   "metadata": {},
   "outputs": [
    {
     "data": {
      "text/plain": [
       "10715"
      ]
     },
     "execution_count": 24,
     "metadata": {},
     "output_type": "execute_result"
    }
   ],
   "source": [
    "count_chm_occurences = 0\n",
    "count_pro_occurences = 0\n",
    "chm_pro_together = 0\n",
    "for sent in semantic_KG_1990:\n",
    "    both_present = False\n",
    "    if any(chm.lower() in sent.lower() for chm in chm_entities):\n",
    "        count_chm_occurences += 1\n",
    "    if any(pro.lower() in sent.lower() for pro in pro_entities):\n",
    "        count_pro_occurences += 1\n",
    "    if any(pro.lower() in sent.lower() for pro in pro_entities) and any(chm.lower() in sent.lower() for chm in chm_entities):\n",
    "        chm_pro_together\n",
    "count_chm_occurences"
   ]
  },
  {
   "cell_type": "code",
   "execution_count": 23,
   "metadata": {},
   "outputs": [
    {
     "data": {
      "text/plain": [
       "10779"
      ]
     },
     "execution_count": 23,
     "metadata": {},
     "output_type": "execute_result"
    }
   ],
   "source": [
    "count_pro_occurences"
   ]
  },
  {
   "cell_type": "code",
   "execution_count": null,
   "metadata": {},
   "outputs": [],
   "source": [
    "chm_pro_together"
   ]
  }
 ],
 "metadata": {
  "kernelspec": {
   "display_name": "project_env",
   "language": "python",
   "name": "python3"
  },
  "language_info": {
   "codemirror_mode": {
    "name": "ipython",
    "version": 3
   },
   "file_extension": ".py",
   "mimetype": "text/x-python",
   "name": "python",
   "nbconvert_exporter": "python",
   "pygments_lexer": "ipython3",
   "version": "3.9.18"
  }
 },
 "nbformat": 4,
 "nbformat_minor": 2
}
