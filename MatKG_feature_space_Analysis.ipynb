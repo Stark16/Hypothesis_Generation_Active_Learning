{
 "cells": [
  {
   "cell_type": "code",
   "execution_count": 6,
   "metadata": {},
   "outputs": [
    {
     "name": "stderr",
     "output_type": "stream",
     "text": [
      "[nltk_data] Downloading package punkt to\n",
      "[nltk_data]     C:\\Users\\Stark\\AppData\\Roaming\\nltk_data...\n",
      "[nltk_data]   Package punkt is already up-to-date!\n"
     ]
    }
   ],
   "source": [
    "from arango import ArangoClient\n",
    "import pandas as pd\n",
    "import nltk\n",
    "from nltk.tokenize import sent_tokenize\n",
    "import json\n",
    "import os\n",
    "import random\n",
    "import numpy as np\n",
    "nltk.download('punkt')\n",
    "from tqdm import tqdm"
   ]
  },
  {
   "cell_type": "code",
   "execution_count": 7,
   "metadata": {},
   "outputs": [],
   "source": [
    "client = ArangoClient(hosts='http://localhost:8529')\n",
    "db = client.db('Database_Material_Science', username='root', password='praddy')\n",
    "entities = db.collection('entities')\n",
    "publications = db.collection('publications')\n",
    "edges = db.collection('publications_entities_edges')"
   ]
  },
  {
   "cell_type": "code",
   "execution_count": 8,
   "metadata": {},
   "outputs": [],
   "source": [
    "from matplotlib import pyplot as plt"
   ]
  },
  {
   "cell_type": "markdown",
   "metadata": {},
   "source": [
    "### Fetching the Distinct enitity classes in the dataset:"
   ]
  },
  {
   "cell_type": "code",
   "execution_count": 9,
   "metadata": {},
   "outputs": [
    {
     "data": {
      "text/plain": [
       "['APL', 'CHM', 'CMT', 'PRO', 'SPL']"
      ]
     },
     "execution_count": 9,
     "metadata": {},
     "output_type": "execute_result"
    }
   ],
   "source": [
    "QUERY_get_entity_classes = f\"\"\"\n",
    "                            FOR entity IN entities\n",
    "                                COLLECT entity_categories = entity.tag\n",
    "                                return entity_categories\n",
    "                            \"\"\"\n",
    "\n",
    "cursor = db.aql.execute(QUERY_get_entity_classes)\n",
    "entity_classes = list(cursor)\n",
    "entity_classes"
   ]
  },
  {
   "cell_type": "markdown",
   "metadata": {},
   "source": [
    "## Fetching all the `Entities` with the class `CHM` meaning Chemical/Material [Fetching all the chemicals in the database]"
   ]
  },
  {
   "cell_type": "code",
   "execution_count": 10,
   "metadata": {},
   "outputs": [
    {
     "data": {
      "text/plain": [
       "['H3PO4',\n",
       " 'Oxygen',\n",
       " 'AsV',\n",
       " 'Polymethyl Methacrylate',\n",
       " 'Glycosyl',\n",
       " 'Bioethanol',\n",
       " 'Acetonide',\n",
       " 'S2O32',\n",
       " 'Silica',\n",
       " 'Sodium']"
      ]
     },
     "execution_count": 10,
     "metadata": {},
     "output_type": "execute_result"
    }
   ],
   "source": [
    "QUERY_get_chm = f\"\"\"\n",
    "                            FOR entity IN entities\n",
    "                                filter entity.tag == \"CHM\"\n",
    "                                return entity.name\n",
    "                            \"\"\"\n",
    "\n",
    "cursor = db.aql.execute(QUERY_get_chm)\n",
    "chm_entities = list(cursor)\n",
    "random.sample(chm_entities, 10)"
   ]
  },
  {
   "cell_type": "markdown",
   "metadata": {},
   "source": [
    "## Fetching all the the `Entities` with the class `PRO` meaning Property [Fetching all the properties in the database]"
   ]
  },
  {
   "cell_type": "code",
   "execution_count": 11,
   "metadata": {},
   "outputs": [
    {
     "data": {
      "text/plain": [
       "['Interaction Behavior',\n",
       " 'Spectral Intensity',\n",
       " 'Photodynamic Effect',\n",
       " 'Coefficient',\n",
       " 'LUMO Distribution',\n",
       " 'Interface Conductivity',\n",
       " 'Total Flux',\n",
       " 'Critical Temperature T C',\n",
       " 'Twinning Planes',\n",
       " 'Adiabatic Temperature Change']"
      ]
     },
     "execution_count": 11,
     "metadata": {},
     "output_type": "execute_result"
    }
   ],
   "source": [
    "QUERY_get_pro = f\"\"\"\n",
    "                    FOR entity IN entities\n",
    "                        filter entity.tag == \"PRO\"\n",
    "                        return entity.name\n",
    "                            \"\"\"\n",
    "cursor = db.aql.execute(QUERY_get_pro)\n",
    "pro_entities = list(cursor)\n",
    "random.sample(pro_entities, 10)"
   ]
  },
  {
   "cell_type": "code",
   "execution_count": 13,
   "metadata": {},
   "outputs": [
    {
     "name": "stdout",
     "output_type": "stream",
     "text": [
      "Top 2 occurring entries:\n",
      "Г: 1\n",
      "Failure Strength: 1\n"
     ]
    }
   ],
   "source": [
    "unique, counts = np.unique(pro_entities, return_counts=True)\n",
    "top_indices = np.argsort(counts)[::-1][:2]\n",
    "top_two_entries = unique[top_indices]\n",
    "top_two_counts = counts[top_indices]\n",
    "\n",
    "print(\"Top 2 occurring entries:\")\n",
    "for entry, count in zip(top_two_entries, top_two_counts):\n",
    "    print(f\"{entry}: {count}\")"
   ]
  },
  {
   "cell_type": "markdown",
   "metadata": {},
   "source": [
    "## Loading the 1990 dataset from Semantic-KG:"
   ]
  },
  {
   "cell_type": "code",
   "execution_count": 14,
   "metadata": {},
   "outputs": [],
   "source": [
    "def read_semanticKG(PATH_dataset_dir:str):\n",
    "    dataset_lines = []\n",
    "    for file in ['train_norm.txt', 'val_norm.txt']:\n",
    "        with open(os.path.join(PATH_dataset_dir, file), 'r', encoding='utf-8') as f:\n",
    "            lines = f.readlines()\n",
    "            dataset_lines.extend(lines)\n",
    "    return dataset_lines"
   ]
  },
  {
   "cell_type": "code",
   "execution_count": 15,
   "metadata": {},
   "outputs": [
    {
     "name": "stdout",
     "output_type": "stream",
     "text": [
      "10789\n"
     ]
    }
   ],
   "source": [
    "PATH_1990 = r\"D:\\College\\Research\\Prof_jamshid\\Hypothesis_Generation_Active_Learning\\datasets\\1990\"\n",
    "semantic_KG_1990 = read_semanticKG(PATH_1990)\n",
    "random.sample(semantic_KG_1990, 10)\n",
    "print(len(semantic_KG_1990))"
   ]
  },
  {
   "cell_type": "code",
   "execution_count": 16,
   "metadata": {},
   "outputs": [
    {
     "data": {
      "text/plain": [
       "['Verapamil was found to reverse multidrug resistance but had no effect on intracellular pH while amiloride, which acidifies the cytoxol by blocking Na+/H+ antiport activity, did not cause reversal of drug resistance.\\n',\n",
       " '\"l\\'Support in both large and small cells.\\n',\n",
       " 'Therefore, from the comparison of the experimental Tafel and decay slopes with the theoretical ones and from the dependence of the cathodic current density, at constant A#, on the (C/C) ratio, it is concluded that among the various mechanisms discussed above, the scheme V with step Vc as rate determining and m = 2 explains most of the kinetic parameters of the electrochemical reduction of the ammonium ion dissolved in DMSO on platinum.The participation of adsorption process explains the low Tafel slopes, of the order of -40 mV, as well as the slopes larger than -120 mV at 25 \"C.The latter appear always related to a high degree of surface coverage.When the system is electrolyzed for a long time before kinetic measurements are initiated a high and constant degree of surface coverage is reached, a situation which is more rapidly attained with the moving electrodes.\\n',\n",
       " 'We are not impressed with the somewhat confident and dogmatic manner in which the most modern h}7potheses concerning matter and force are discussed, in fact these 120 pages of introductory matter are by no means satisfactory.\\n',\n",
       " 'No other dusts we have investigated have produced this high incidence of tumours particularly following inhalation.\\n',\n",
       " 'The elution profile of the oligosaccharides released from neuraminidase-treated gC ( Figure 1E) was markedly different from that of untreated gC ( Figure 1D).\\n',\n",
       " 'The stabilization processes may also imply a contribution from surface decontamination which may in turn assist the development of steps and the formation of point defects probably at the grain boundaries.\\n',\n",
       " 'should be taken mto account.\\n',\n",
       " 'As described in part I,g a cathodic pulse of 1 mA and 10 min duration was applied to the working electrode to achieve uniform surface conditions for the experiments.\\n',\n",
       " 'With increasing con-dral coordination of the copper atom, whereas due tent x of the dopant A = Sr, Ba, La2 _~A~Cu04 be-to the change of the location of the oxygen atoms at comes tetragonal [3,4] also at low temperatures.\\n']"
      ]
     },
     "execution_count": 16,
     "metadata": {},
     "output_type": "execute_result"
    }
   ],
   "source": [
    "random.sample(semantic_KG_1990, 10)"
   ]
  },
  {
   "cell_type": "markdown",
   "metadata": {},
   "source": [
    "## Checking how many occurances are there in the 1990 dataset that has `CHM` and `PRO` from `Mat-KG`"
   ]
  },
  {
   "cell_type": "code",
   "execution_count": 17,
   "metadata": {},
   "outputs": [],
   "source": [
    "count_chm_occurences = 0\n",
    "count_pro_occurences = 0\n",
    "chm_pro_together = 0\n",
    "for sent in semantic_KG_1990:\n",
    "    both_present = [False, False]\n",
    "    if any(chm.lower() in sent.lower() for chm in chm_entities):\n",
    "        count_chm_occurences += 1\n",
    "        both_present[0] = True\n",
    "    if any(pro.lower() in sent.lower() for pro in pro_entities):\n",
    "        count_pro_occurences += 1\n",
    "        both_present[1] = True\n",
    "    if both_present[0] and both_present[1]:\n",
    "        chm_pro_together\n"
   ]
  },
  {
   "cell_type": "code",
   "execution_count": 18,
   "metadata": {},
   "outputs": [
    {
     "name": "stdout",
     "output_type": "stream",
     "text": [
      "[INFO] Number of Chm entities:  10715\n",
      "[INFO] Number of Pro entities:  10779\n",
      "[INFO] Number of entities with both:  0\n"
     ]
    }
   ],
   "source": [
    "print('[INFO] Number of Chm entities: ', count_chm_occurences)\n",
    "print('[INFO] Number of Pro entities: ', count_pro_occurences)\n",
    "print('[INFO] Number of entities with both: ', chm_pro_together)"
   ]
  },
  {
   "cell_type": "markdown",
   "metadata": {},
   "source": [
    "# The `Hypothesis` Scenario\n",
    "\n",
    "* After thinking a lot, I'm considering using something related to semi-conductors\n",
    "* I foound the following terms that are in play when semiconductos are manifactured for any kind of LED:\n",
    "    - Band Gap Energy\n",
    "    - Quantum Well\n",
    "    - Semi-Conductor\n",
    "    - Wavelength\n",
    "    - Energy Level\n",
    "    \n",
    "## I'll start by listing the candidates of these `Properties` in this dataset:\n"
   ]
  },
  {
   "cell_type": "code",
   "execution_count": 24,
   "metadata": {},
   "outputs": [
    {
     "data": {
      "text/plain": [
       "['P',\n",
       " 'ER',\n",
       " 'Energy',\n",
       " 'RG',\n",
       " 'GAP Energy',\n",
       " 'Band Gap Energy',\n",
       " 'Band Gap',\n",
       " 'AP',\n",
       " 'Gap',\n",
       " 'Rg',\n",
       " 'GaP']"
      ]
     },
     "execution_count": 24,
     "metadata": {},
     "output_type": "execute_result"
    }
   ],
   "source": [
    "[pro for pro in pro_entities if pro.lower() in \"band gap energy\"]"
   ]
  },
  {
   "cell_type": "code",
   "execution_count": 25,
   "metadata": {},
   "outputs": [
    {
     "data": {
      "text/plain": [
       "['T', 'M W', 'Q', 'L', 'U', 'EL', 'NT', 'WEL', 'El']"
      ]
     },
     "execution_count": 25,
     "metadata": {},
     "output_type": "execute_result"
    }
   ],
   "source": [
    "[pro for pro in pro_entities if pro.lower() in \"quantum well\"]"
   ]
  },
  {
   "cell_type": "code",
   "execution_count": 26,
   "metadata": {},
   "outputs": [
    {
     "data": {
      "text/plain": [
       "['Tor', 'T', 'Ct', 'MI', 'U', 'Uc', 'OR', 'SE', 'Se', 'SEM', 'Co', 'CT']"
      ]
     },
     "execution_count": 26,
     "metadata": {},
     "output_type": "execute_result"
    }
   ],
   "source": [
    "[pro for pro in pro_entities if pro.lower() in \"semi conductor\"]"
   ]
  },
  {
   "cell_type": "code",
   "execution_count": 27,
   "metadata": {},
   "outputs": [
    {
     "data": {
      "text/plain": [
       "['T', 'Length', 'L', 'EL', 'WA', 'El']"
      ]
     },
     "execution_count": 27,
     "metadata": {},
     "output_type": "execute_result"
    }
   ],
   "source": [
    "[pro for pro in pro_entities if pro.lower() in \"wavelength\"]"
   ]
  },
  {
   "cell_type": "code",
   "execution_count": 28,
   "metadata": {},
   "outputs": [
    {
     "data": {
      "text/plain": [
       "['L', 'ER', 'Energy', 'RG', 'Energy Level', 'EL', 'Rg', 'EV', 'El']"
      ]
     },
     "execution_count": 28,
     "metadata": {},
     "output_type": "execute_result"
    }
   ],
   "source": [
    "[pro for pro in pro_entities if pro.lower() in \"energy level\"]"
   ]
  },
  {
   "cell_type": "markdown",
   "metadata": {},
   "source": [
    "## Searching the same in the dataset"
   ]
  },
  {
   "cell_type": "code",
   "execution_count": 38,
   "metadata": {},
   "outputs": [
    {
     "data": {
      "text/plain": [
       "['Electrochem.11, 551 (1981).of Metals and Semiconductors(Edited by M. Froment), pp.\\n',\n",
       " 'Electrochem.11, 551 (1981).of Metals and Semiconductors(Edited by M. Froment), pp.\\n',\n",
       " 'We present Hall Effect and resistivity data which demonstrate that EuB 6 is a degenerate semiconductor transforming into a metal or semimetal below the ferromagnetic ordering temperature, Tc--13.7K.We also report an anomalously large, positive pressure dependence of T c, (1/Tc)(ATc/AP) = 4 x 10 -2 kbar -1 EuB 6 is a cubic material having B 6 octahedra at the corners of a simple cubic lattice and Eu at the body center.It orders ferromagnetlcally with a transition tempera-\"\\n',\n",
       " 'We present Hall Effect and resistivity data which demonstrate that EuB 6 is a degenerate semiconductor transforming into a metal or semimetal below the ferromagnetic ordering temperature, Tc--13.7K.We also report an anomalously large, positive pressure dependence of T c, (1/Tc)(ATc/AP) = 4 x 10 -2 kbar -1 EuB 6 is a cubic material having B 6 octahedra at the corners of a simple cubic lattice and Eu at the body center.It orders ferromagnetlcally with a transition tempera-\"\\n',\n",
       " 'ture sensitive to sample purity and stoichiometry .Early band structure calculation [6] predicted that pure EuB 6 is a semiconductor, whereas more recent calculations show that, at least in the ordered state, EuB 6 is expected to be a semimetal [7].Experimental support for both points of view have been given.A decrease in resistivity above room temperature [5] argues for a small semiconductor energy gap of ~0.1 eV, whereas the metallic conductivity below 200 K [1,3,4], which has been observed in all samples regardless of preparation, favors a semimetal rather than a degenerate semiconductor description.\\n',\n",
       " 'In this letter we present Hall effect and resistivity data which demonstrate that EuB 6 is a degenerate semiconductor transforming into a metal or semimetal below the ferromagnetic ordering temperature (T c = 13.7 K).Where comparisons are possible, our experimental results on Al flux grown single crystals are in good agreement with polycrystalline data by Ishikawa [8] which have recently been summarized by Kasuya, et al.\\n',\n",
       " '3.In particular, if a one band model is assumed, we may interpret the curve as follows: Between 297 and ~150 K, electrons excited accross an intrinsic semiconductor gap are gradually frozen out.The plateau between ~150 and ~100 K represents the exhaustion range with n = 10-8+(leH/HA Ixe) = 3.5x1019cm -3 due to defects and impurities.Here the calculated mobilities are inordinately high at ~300 cm2/v sec.The subsequent decrease in l eH/HAI as the temperature is lowered further signals the onset of an electronic phase transition.It should also be mentioned that, below 70 K, e H is not linear in applied magnetic field, H a , which might be interpreted as a field dependence of the carrier number.The major result of the Hall measurements, however, is that the EuB 6 is not a simple degenerate semiconductor.If that were the case, no change in R o would be expected at low temperature, whereas a factor 5 decrease is observed between 110 K and 4.2 K.We conclude, therefore, that EuB 6 has a magnetically driven phase transition to a low temperature semimetal or metal with a sizeable change in carrier number.\\n',\n",
       " 'Both the transport and pressure measurements lead to the conclusion that EuB 6 cannot be described as a simple degenerate semiconductor.Furthermore, the unusually high mobilities (at 4.2K, # ~-2.4 x 103cm2/v sec) derived by assuming a one band model suggest that a semimetal involving several bands at E F is more appropriate at low temperatures.This conclusion is supported by the band structure calculations of Hasegawa and Yanase [7]\" It also forms the basis of the description of the magnetic and transport properties by Kasuya, et al [9].These authors, however, ignore the contribution of the valence band to the conduction process, thereby reducing the calculations to a one band model.It seems that this approach can only be justified if it can also explain the large mobilities in the presence of 3.5 x 1019cm -3 defects or impurities.Finally, the large positive logarithmic pressure derivative of the magnetic transition temperature, which contrasts sharply with the results of doping experiments [I] , is not understood quantitatively.Similar experiments on EuB6_xC x are underway.\\n',\n",
       " 'zero applied field increases strongly with decreasing temperature, with a non-exponential variation characteristic of dirty semiconductors, s and does not show any resistance anomaly typical of 3I) antiferromagnetic ordering.\\n',\n",
       " 'Futhermore, the CU-O plane has a metallic-like temperature dependent resistivity above ~130 K but is semiconductorlike at lower temperatures; however, conductivity perpendicular to the Cu-O plane is semiconductor-like for all T < 300 K. A magnetization curve at 20 K is plotted in the inset.\\n']"
      ]
     },
     "execution_count": 38,
     "metadata": {},
     "output_type": "execute_result"
    }
   ],
   "source": [
    "sentences = []\n",
    "word = \"semiconductor\"\n",
    "for sent in semantic_KG_1990:\n",
    "    if word in sent.lower():\n",
    "        sentences.append(sent)\n",
    "\n",
    "sentences"
   ]
  },
  {
   "cell_type": "code",
   "execution_count": null,
   "metadata": {},
   "outputs": [],
   "source": []
  }
 ],
 "metadata": {
  "kernelspec": {
   "display_name": "project_env",
   "language": "python",
   "name": "python3"
  },
  "language_info": {
   "codemirror_mode": {
    "name": "ipython",
    "version": 3
   },
   "file_extension": ".py",
   "mimetype": "text/x-python",
   "name": "python",
   "nbconvert_exporter": "python",
   "pygments_lexer": "ipython3",
   "version": "3.9.18"
  }
 },
 "nbformat": 4,
 "nbformat_minor": 2
}
