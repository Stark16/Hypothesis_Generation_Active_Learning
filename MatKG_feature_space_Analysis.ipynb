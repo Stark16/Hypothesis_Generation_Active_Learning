{
 "cells": [
  {
   "cell_type": "code",
   "execution_count": 20,
   "metadata": {},
   "outputs": [
    {
     "name": "stderr",
     "output_type": "stream",
     "text": [
      "[nltk_data] Downloading package punkt to\n",
      "[nltk_data]     C:\\Users\\Stark\\AppData\\Roaming\\nltk_data...\n",
      "[nltk_data]   Package punkt is already up-to-date!\n"
     ]
    }
   ],
   "source": [
    "from arango import ArangoClient\n",
    "import pandas as pd\n",
    "import nltk\n",
    "from nltk.tokenize import sent_tokenize\n",
    "import json\n",
    "import random\n",
    "import numpy as np\n",
    "nltk.download('punkt')\n",
    "from tqdm import tqdm"
   ]
  },
  {
   "cell_type": "code",
   "execution_count": 2,
   "metadata": {},
   "outputs": [],
   "source": [
    "client = ArangoClient(hosts='http://localhost:8529')\n",
    "db = client.db('Database_Material_Science', username='root', password='praddy')\n",
    "entities = db.collection('entities')\n",
    "publications = db.collection('publications')\n",
    "edges = db.collection('publications_entities_edges')"
   ]
  },
  {
   "cell_type": "code",
   "execution_count": 3,
   "metadata": {},
   "outputs": [],
   "source": [
    "from matplotlib import pyplot as plt"
   ]
  },
  {
   "cell_type": "markdown",
   "metadata": {},
   "source": [
    "### Fetching the Distinct enitity classes in the dataset:"
   ]
  },
  {
   "cell_type": "code",
   "execution_count": 5,
   "metadata": {},
   "outputs": [
    {
     "data": {
      "text/plain": [
       "['APL', 'CHM', 'CMT', 'PRO', 'SPL']"
      ]
     },
     "execution_count": 5,
     "metadata": {},
     "output_type": "execute_result"
    }
   ],
   "source": [
    "QUERY_get_entity_classes = f\"\"\"\n",
    "                            FOR entity IN entities\n",
    "                                COLLECT entity_categories = entity.tag\n",
    "                                return entity_categories\n",
    "                            \"\"\"\n",
    "\n",
    "cursor = db.aql.execute(QUERY_get_entity_classes)\n",
    "entity_classes = list(cursor)\n",
    "entity_classes"
   ]
  },
  {
   "cell_type": "markdown",
   "metadata": {},
   "source": [
    "## Fetching all the `Entities` with the class `CHM` meaning Chemical/Material [Fetching all the chemicals in the database]"
   ]
  },
  {
   "cell_type": "code",
   "execution_count": 15,
   "metadata": {},
   "outputs": [
    {
     "data": {
      "text/plain": [
       "['Bentonite',\n",
       " 'H3PO4',\n",
       " 'Dibutyryl cAMP',\n",
       " 'Au',\n",
       " 'PEDOT',\n",
       " 'α-Ketoglutarate',\n",
       " 'PTMSP',\n",
       " 'Rhodamine B',\n",
       " 'Bisphenol A',\n",
       " 'S2O32']"
      ]
     },
     "execution_count": 15,
     "metadata": {},
     "output_type": "execute_result"
    }
   ],
   "source": [
    "QUERY_get_chm = f\"\"\"\n",
    "                            FOR entity IN entities\n",
    "                                filter entity.tag == \"CHM\"\n",
    "                                return entity.name\n",
    "                            \"\"\"\n",
    "\n",
    "cursor = db.aql.execute(QUERY_get_chm)\n",
    "chm_entities = list(cursor)\n",
    "random.sample(chm_entities, 10)"
   ]
  },
  {
   "cell_type": "markdown",
   "metadata": {},
   "source": [
    "## Fetching all the the `Entities` with the class `PRO` meaning Property [Fetching all the properties in the database]"
   ]
  },
  {
   "cell_type": "code",
   "execution_count": 16,
   "metadata": {},
   "outputs": [
    {
     "data": {
      "text/plain": [
       "['Dynamic Surface Tension',\n",
       " 'Biological Characteristics',\n",
       " 'Nuclearities',\n",
       " 'Subcellular Localization',\n",
       " 'Brush Height',\n",
       " 'SHG Response',\n",
       " 'Peak Pressure',\n",
       " 'Photothermal Conversion Efficiency',\n",
       " 'Creep Rupture Life',\n",
       " 'Ln ε']"
      ]
     },
     "execution_count": 16,
     "metadata": {},
     "output_type": "execute_result"
    }
   ],
   "source": [
    "QUERY_get_pro = f\"\"\"\n",
    "                    FOR entity IN entities\n",
    "                        filter entity.tag == \"PRO\"\n",
    "                        return entity.name\n",
    "                            \"\"\"\n",
    "cursor = db.aql.execute(QUERY_get_pro)\n",
    "pro_entities = list(cursor)\n",
    "random.sample(pro_entities, 10)"
   ]
  },
  {
   "cell_type": "code",
   "execution_count": 21,
   "metadata": {},
   "outputs": [
    {
     "name": "stdout",
     "output_type": "stream",
     "text": [
      "Top 2 occurring entries:\n",
      "Г: 1\n",
      "Failure Strength: 1\n"
     ]
    }
   ],
   "source": [
    "unique, counts = np.unique(pro_entities, return_counts=True)\n",
    "top_indices = np.argsort(counts)[::-1][:2]\n",
    "top_two_entries = unique[top_indices]\n",
    "top_two_counts = counts[top_indices]\n",
    "\n",
    "print(\"Top 2 occurring entries:\")\n",
    "for entry, count in zip(top_two_entries, top_two_counts):\n",
    "    print(f\"{entry}: {count}\")"
   ]
  },
  {
   "cell_type": "code",
   "execution_count": null,
   "metadata": {},
   "outputs": [],
   "source": []
  }
 ],
 "metadata": {
  "kernelspec": {
   "display_name": "project_env",
   "language": "python",
   "name": "python3"
  },
  "language_info": {
   "codemirror_mode": {
    "name": "ipython",
    "version": 3
   },
   "file_extension": ".py",
   "mimetype": "text/x-python",
   "name": "python",
   "nbconvert_exporter": "python",
   "pygments_lexer": "ipython3",
   "version": "3.9.18"
  }
 },
 "nbformat": 4,
 "nbformat_minor": 2
}
