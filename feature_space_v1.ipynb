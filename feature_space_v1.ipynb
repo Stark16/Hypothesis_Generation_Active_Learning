{
 "cells": [
  {
   "cell_type": "markdown",
   "metadata": {},
   "source": [
    "# Approach 2 - Fractal Hypothesis Knwoledge Graph and Fractal Embedding Space"
   ]
  },
  {
   "cell_type": "code",
   "execution_count": 2,
   "metadata": {},
   "outputs": [
    {
     "name": "stderr",
     "output_type": "stream",
     "text": [
      "/home/ppathak/miniconda3/envs/matscibert/lib/python3.9/site-packages/tqdm/auto.py:21: TqdmWarning: IProgress not found. Please update jupyter and ipywidgets. See https://ipywidgets.readthedocs.io/en/stable/user_install.html\n",
      "  from .autonotebook import tqdm as notebook_tqdm\n"
     ]
    }
   ],
   "source": [
    "from utils import feature_space_templatev1\n",
    "from matscibert_inf.ner.NER_inference import NER_INF"
   ]
  },
  {
   "cell_type": "markdown",
   "metadata": {},
   "source": [
    "## Load models:"
   ]
  },
  {
   "cell_type": "code",
   "execution_count": 3,
   "metadata": {},
   "outputs": [
    {
     "name": "stderr",
     "output_type": "stream",
     "text": [
      "/home/ppathak/miniconda3/envs/matscibert/lib/python3.9/site-packages/huggingface_hub/file_download.py:1150: FutureWarning: `resume_download` is deprecated and will be removed in version 1.0.0. Downloads always resume when possible. If you want to force a new download, use `force_download=True`.\n",
      "  warnings.warn(\n",
      "Some weights of BertForTokenClassification were not initialized from the model checkpoint at m3rg-iitd/matscibert and are newly initialized: ['classifier.bias', 'classifier.weight']\n",
      "You should probably TRAIN this model on a down-stream task to be able to use it for predictions and inference.\n",
      "/home/ppathak/Hypothesis_Generation_Active_Learning/matscibert_inf/ner/NER_inference.py:56: FutureWarning: You are using `torch.load` with `weights_only=False` (the current default value), which uses the default pickle module implicitly. It is possible to construct malicious pickle data which will execute arbitrary code during unpickling (See https://github.com/pytorch/pytorch/blob/main/SECURITY.md#untrusted-models for more details). In a future release, the default value for `weights_only` will be flipped to `True`. This limits the functions that could be executed during unpickling. Arbitrary objects will no longer be allowed to be loaded via this mode unless they are explicitly allowlisted by the user via `torch.serialization.add_safe_globals`. We recommend you start setting `weights_only=True` for any use case where you don't have full control of the loaded file. Please open an issue on GitHub for any issues related to this experimental feature.\n",
      "  model.load_state_dict(torch.load(os.path.join(self.PATH_model_dir, 'pytorch_model.bin'), map_location='cpu'), strict=False)\n"
     ]
    }
   ],
   "source": [
    "OBJ_ner_inf = NER_INF()\n",
    "MODEL_ner = OBJ_ner_inf.initialize_infer()\n",
    "PATH_model = \"/home/ppathak/Hypothesis_Generation_Active_Learning/matscibert_inf/mlm_models/tr_150_tech/checkpoint-2940\"\n",
    "OBJ_2005_bert = feature_space_templatev1.FeatureSpaceSingleTemplate(OBJ_ner_inf)\n",
    "\n",
    "OBJ_2005_bert.PATH_all_model = PATH_model\n",
    "MODEL_2005_bert = OBJ_2005_bert.load_model()"
   ]
  },
  {
   "cell_type": "markdown",
   "metadata": {},
   "source": [
    "## Steps of this approach:\n",
    "\n",
    "1. Start with a sample Hypothesis\n",
    "2. Understand the Main Keywords in play that makes up the important part of the hypothesis\n",
    "3. Now form Sub-Hypothesis about these keywords.\n",
    "4. Repeat the create a Fractal Hypothesis State.\n",
    "5. Convert each hypothesis to embedding.\n",
    "6. Experiment with above.\n",
    "\n",
    "Starting with the following Hypothesis:\n",
    "\n",
    "`An element [MASK] is an electrical conductor`"
   ]
  },
  {
   "cell_type": "code",
   "execution_count": 4,
   "metadata": {},
   "outputs": [],
   "source": [
    "PRINCIPLE_HYPOTHESIS = \"An element [MASK] is an electrical conductor\"\n",
    "hypothesis_fractal = {PRINCIPLE_HYPOTHESIS : {}}"
   ]
  },
  {
   "cell_type": "markdown",
   "metadata": {},
   "source": [
    "## Running the Principle Hypothesis through NER to get word candidates to create Sub-Hypothesis'"
   ]
  },
  {
   "cell_type": "code",
   "execution_count": 5,
   "metadata": {},
   "outputs": [
    {
     "name": "stderr",
     "output_type": "stream",
     "text": [
      "/home/ppathak/miniconda3/envs/matscibert/lib/python3.9/site-packages/torchcrf/__init__.py:305: UserWarning: where received a uint8 condition tensor. This behavior is deprecated and will be removed in a future version of PyTorch. Use a boolean condition instead. (Triggered internally at ../aten/src/ATen/native/TensorCompare.cpp:530.)\n",
      "  score = torch.where(mask[i].unsqueeze(1), next_score, score)\n"
     ]
    },
    {
     "data": {
      "text/plain": [
       "{'an': 'O',\n",
       " 'element': 'O',\n",
       " '[MASK]': 'O',\n",
       " 'is': 'O',\n",
       " 'electrical': 'B-PRO',\n",
       " 'conductor': 'I-PRO'}"
      ]
     },
     "execution_count": 5,
     "metadata": {},
     "output_type": "execute_result"
    }
   ],
   "source": [
    "ner_results = OBJ_ner_inf.infer_caption(PRINCIPLE_HYPOTHESIS, MODEL_ner)\n",
    "ner_results"
   ]
  },
  {
   "cell_type": "markdown",
   "metadata": {},
   "source": [
    "## Now here, we combine the B- and I- to take the full `action-word` that is impacting our hypothesis. `electrical conductor` in this case.\n",
    "\n",
    "I used Chat-GPT to make further \"Prompts\" that are factually correct about the \"action-word\". I gave it the following promt:\n",
    "\n",
    ">Here I will give a simple statement. And in that statement. I will highlight a keyword. And then I will give a list of simple questions to answer about that keyword in context to the sentence. You just have to answer those questions. The questions will always be about >Material Science Domain. While answering the questions Ensure the following:\n",
    ">1. The answers need to be as short of as possible.\n",
    ">2. Answers has to be direct.\n",
    ">3. The answers has to clearly \"mention\" any property/material/phenomenon that needs to be included without providing and extra explanation about said terms.\n",
    ">4. The answer should never talk about applications or about any other info/fact or place where the subject word was applied unless asked.\n",
    "\n",
    ">This is your First Statement: \"An element [MASK] is an electrical conductor\"\n",
    ">and your key word is \"electrical conductor\"\n",
    "\n",
    ">For this, answer the following in context to the statement:\n",
    "\n",
    ">What is the subject, define it?\n",
    "\n",
    ">How is the subject related to in context of the statement, how does it impact it, use other scientific term to define the importance?\n",
    "\n",
    ">Why is it important in context to the statement?\n",
    "\n",
    ">How is it important in context to the statement?\n",
    "\n",
    "Now that I have the answers of the above, I repeat the ner results for the same:"
   ]
  },
  {
   "cell_type": "code",
   "execution_count": 6,
   "metadata": {},
   "outputs": [],
   "source": [
    "def remove_o_tag(result_dict: dict, sub_hypothesis_terms: dict):\n",
    "    action_words = {}\n",
    "    grouped_term = \"\"\n",
    "    current_tag = None\n",
    "\n",
    "    for word, tag in result_dict.items():\n",
    "        if tag == 'O':\n",
    "            # If we're in a group, finalize it and reset\n",
    "            if grouped_term and current_tag:\n",
    "                action_words[grouped_term] = current_tag\n",
    "                if grouped_term + '_' + current_tag not in sub_hypothesis_terms:\n",
    "                    sub_hypothesis_terms[grouped_term + '_' + current_tag] = {\n",
    "                        grouped_term: current_tag\n",
    "                    }\n",
    "                grouped_term = \"\"\n",
    "                current_tag = None\n",
    "            continue\n",
    "\n",
    "        prefix, label = tag.split('-') if '-' in tag else (None, tag)\n",
    "\n",
    "        if prefix == 'B':  # Start of a new group\n",
    "            # If there's an existing group, finalize it\n",
    "            if grouped_term and current_tag:\n",
    "                action_words[grouped_term] = current_tag\n",
    "                if grouped_term + '_' + current_tag not in sub_hypothesis_terms:\n",
    "                    sub_hypothesis_terms[grouped_term + '_' + current_tag] = {\n",
    "                        grouped_term: current_tag\n",
    "                    }\n",
    "            # Start new group\n",
    "            grouped_term = word\n",
    "            current_tag = label\n",
    "        elif prefix == 'I' and current_tag == label:  # Continuation of the current group\n",
    "            grouped_term += f\" {word}\"\n",
    "        else:\n",
    "            # If `I-` is out of sync with the current tag, treat it as a new group\n",
    "            if grouped_term and current_tag:\n",
    "                action_words[grouped_term] = current_tag\n",
    "                if grouped_term + '_' + current_tag not in sub_hypothesis_terms:\n",
    "                    sub_hypothesis_terms[grouped_term + '_' + current_tag] = {\n",
    "                        grouped_term: current_tag\n",
    "                    }\n",
    "            grouped_term = word\n",
    "            current_tag = label\n",
    "\n",
    "    # Finalize the last group\n",
    "    if grouped_term and current_tag:\n",
    "        action_words[grouped_term] = current_tag\n",
    "        if grouped_term + '_' + current_tag not in sub_hypothesis_terms:\n",
    "            sub_hypothesis_terms[grouped_term + '_' + current_tag] = {\n",
    "                grouped_term: current_tag\n",
    "            }\n",
    "\n",
    "    return action_words\n"
   ]
  },
  {
   "cell_type": "code",
   "execution_count": 7,
   "metadata": {},
   "outputs": [],
   "source": [
    "sub_hypothesis_terms = {}\n",
    "WHAT_ner_result = \"A material that permits the flow of electric charge, characterized by low electrical resistivity.\"\n",
    "WHY_ner_result = \"It determines the material's functionality as a pathway for electrical current.\"\n",
    "HOW_ner_result = \"The material's ability to conduct electricity depends on properties like free electron density, low band gap, and high conductivity.\""
   ]
  },
  {
   "cell_type": "code",
   "execution_count": 8,
   "metadata": {},
   "outputs": [
    {
     "data": {
      "text/plain": [
       "{'a': 'O',\n",
       " 'material': 'O',\n",
       " 'that': 'O',\n",
       " 'permits': 'O',\n",
       " 'the': 'O',\n",
       " 'flow': 'O',\n",
       " 'of': 'O',\n",
       " 'electric': 'O',\n",
       " 'charge': 'O',\n",
       " ',': 'O',\n",
       " 'characterized': 'O',\n",
       " 'by': 'O',\n",
       " 'low': 'O',\n",
       " 'electrical': 'B-PRO',\n",
       " 'resistivity': 'I-PRO',\n",
       " '.': 'O'}"
      ]
     },
     "execution_count": 8,
     "metadata": {},
     "output_type": "execute_result"
    }
   ],
   "source": [
    "WHAT_results = OBJ_ner_inf.infer_caption(WHAT_ner_result, MODEL_ner)\n",
    "WHAT_results"
   ]
  },
  {
   "cell_type": "code",
   "execution_count": 9,
   "metadata": {},
   "outputs": [
    {
     "data": {
      "text/plain": [
       "{'electrical resistivity': 'PRO'}"
      ]
     },
     "execution_count": 9,
     "metadata": {},
     "output_type": "execute_result"
    }
   ],
   "source": [
    "# Clearning it a bit\n",
    "WHAT_action_words = remove_o_tag(WHAT_results, sub_hypothesis_terms)\n",
    "WHAT_action_words"
   ]
  },
  {
   "cell_type": "code",
   "execution_count": 10,
   "metadata": {},
   "outputs": [
    {
     "data": {
      "text/plain": [
       "{'it': 'O',\n",
       " 'determines': 'O',\n",
       " 'the': 'O',\n",
       " 'material': 'O',\n",
       " \"'\": 'O',\n",
       " 's': 'O',\n",
       " 'functionality': 'O',\n",
       " 'as': 'O',\n",
       " 'a': 'O',\n",
       " 'pathway': 'O',\n",
       " 'for': 'O',\n",
       " 'electrical': 'O',\n",
       " 'current': 'O',\n",
       " '.': 'O'}"
      ]
     },
     "execution_count": 10,
     "metadata": {},
     "output_type": "execute_result"
    }
   ],
   "source": [
    "WHY_results = OBJ_ner_inf.infer_caption(WHY_ner_result, MODEL_ner)\n",
    "WHY_results"
   ]
  },
  {
   "cell_type": "code",
   "execution_count": 11,
   "metadata": {},
   "outputs": [
    {
     "data": {
      "text/plain": [
       "{}"
      ]
     },
     "execution_count": 11,
     "metadata": {},
     "output_type": "execute_result"
    }
   ],
   "source": [
    "# Clearning it a bit\n",
    "WHY_action_words = remove_o_tag(WHY_results, sub_hypothesis_terms)\n",
    "WHY_action_words"
   ]
  },
  {
   "cell_type": "code",
   "execution_count": 12,
   "metadata": {},
   "outputs": [
    {
     "data": {
      "text/plain": [
       "{'the': 'O',\n",
       " 'material': 'O',\n",
       " \"'\": 'O',\n",
       " 's': 'O',\n",
       " 'ability': 'O',\n",
       " 'to': 'O',\n",
       " 'conduct': 'B-PRO',\n",
       " 'electricity': 'I-PRO',\n",
       " 'depends': 'O',\n",
       " 'on': 'O',\n",
       " 'properties': 'O',\n",
       " 'like': 'O',\n",
       " 'free': 'B-PRO',\n",
       " 'electron': 'I-PRO',\n",
       " 'density': 'I-PRO',\n",
       " ',': 'O',\n",
       " 'low': 'O',\n",
       " 'band': 'B-PRO',\n",
       " 'gap': 'I-PRO',\n",
       " 'and': 'O',\n",
       " 'high': 'O',\n",
       " 'conductivity': 'B-PRO',\n",
       " '.': 'O'}"
      ]
     },
     "execution_count": 12,
     "metadata": {},
     "output_type": "execute_result"
    }
   ],
   "source": [
    "HOW_results = OBJ_ner_inf.infer_caption(HOW_ner_result, MODEL_ner)\n",
    "HOW_results"
   ]
  },
  {
   "cell_type": "code",
   "execution_count": 13,
   "metadata": {},
   "outputs": [
    {
     "data": {
      "text/plain": [
       "{'conduct electricity': 'PRO',\n",
       " 'free electron density': 'PRO',\n",
       " 'band gap': 'PRO',\n",
       " 'conductivity': 'PRO'}"
      ]
     },
     "execution_count": 13,
     "metadata": {},
     "output_type": "execute_result"
    }
   ],
   "source": [
    "# Clearning it a bit\n",
    "HOW_action_words = remove_o_tag(HOW_results, sub_hypothesis_terms)\n",
    "HOW_action_words"
   ]
  },
  {
   "cell_type": "code",
   "execution_count": 14,
   "metadata": {},
   "outputs": [
    {
     "data": {
      "text/plain": [
       "{'electrical resistivity_PRO': {'electrical resistivity': 'PRO'},\n",
       " 'conduct electricity_PRO': {'conduct electricity': 'PRO'},\n",
       " 'free electron density_PRO': {'free electron density': 'PRO'},\n",
       " 'band gap_PRO': {'band gap': 'PRO'},\n",
       " 'conductivity_PRO': {'conductivity': 'PRO'}}"
      ]
     },
     "execution_count": 14,
     "metadata": {},
     "output_type": "execute_result"
    }
   ],
   "source": [
    "# Final terms for Principle_hypothesis:\n",
    "sub_hypothesis_terms"
   ]
  },
  {
   "cell_type": "markdown",
   "metadata": {},
   "source": [
    "# - Starting with a new Hypothesis:\n",
    "\n",
    "`An alloy composed of Element X and Element Y makes a good heat sink.`\n",
    "\n",
    "Let's try the above approach with this hypothesis.\n",
    "\n",
    "For each NER result we ask the following prompt with Chat-GPT:\n",
    "\n",
    ">For the sentence \"A `< NER-TERM >` composed of Element [MASK] and Element [MASK] makes a good heat sink\". what does `< NER-TERM >` mean? Give short and direct answer."
   ]
  },
  {
   "cell_type": "code",
   "execution_count": 15,
   "metadata": {},
   "outputs": [
    {
     "data": {
      "text/plain": [
       "{'an': 'O',\n",
       " 'alloy': 'B-DSC',\n",
       " 'composed': 'O',\n",
       " 'of': 'O',\n",
       " 'element': 'O',\n",
       " '[MASK]': 'B-MAT',\n",
       " 'and': 'O',\n",
       " 'makes': 'O',\n",
       " 'a': 'O',\n",
       " 'good': 'O',\n",
       " 'heat': 'B-APL',\n",
       " 'sink': 'I-APL'}"
      ]
     },
     "execution_count": 15,
     "metadata": {},
     "output_type": "execute_result"
    }
   ],
   "source": [
    "PRINCIPLE_HYPOTHESIS = \"An alloy composed of Element [MASK] and Element [MASK] makes a good heat sink\"\n",
    "hypothesis_fractal = {PRINCIPLE_HYPOTHESIS : {}}\n",
    "ner_results = OBJ_ner_inf.infer_caption(PRINCIPLE_HYPOTHESIS, MODEL_ner)\n",
    "new_sub_hypothesis_terms = {}\n",
    "ner_results"
   ]
  },
  {
   "cell_type": "code",
   "execution_count": 16,
   "metadata": {},
   "outputs": [],
   "source": [
    "h1_action_words = remove_o_tag(ner_results, new_sub_hypothesis_terms)\n",
    "h1_action_words\n",
    "hypothesis_fractal[PRINCIPLE_HYPOTHESIS] = h1_action_words"
   ]
  },
  {
   "cell_type": "code",
   "execution_count": 18,
   "metadata": {},
   "outputs": [
    {
     "data": {
      "text/plain": [
       "{'alloy': 'DSC',\n",
       " 'strength': 'PRO',\n",
       " 'corrosion resistance': 'PRO',\n",
       " 'thermal conductivity': 'PRO'}"
      ]
     },
     "execution_count": 18,
     "metadata": {},
     "output_type": "execute_result"
    }
   ],
   "source": [
    "alloy_prompt_output = 'In Material Science, an \"alloy\" is a mixture of two or more elements, at least one of which is a metal, designed to achieve specific properties like improved strength, corrosion resistance, or thermal conductivity.'\n",
    "alloy_ner_results = OBJ_ner_inf.infer_caption(alloy_prompt_output, MODEL_ner)\n",
    "h2_alloy_action_words = remove_o_tag(alloy_ner_results, new_sub_hypothesis_terms)\n",
    "hypothesis_fractal[PRINCIPLE_HYPOTHESIS] = h2_alloy_action_words\n",
    "h2_alloy_action_words"
   ]
  },
  {
   "cell_type": "code",
   "execution_count": 19,
   "metadata": {},
   "outputs": [
    {
     "data": {
      "text/plain": [
       "{'sink': 'APL',\n",
       " 'thermal energy': 'PRO',\n",
       " 'electronic': 'APL',\n",
       " 'mechanical systems': 'APL'}"
      ]
     },
     "execution_count": 19,
     "metadata": {},
     "output_type": "execute_result"
    }
   ],
   "source": [
    "heat_sink_prompt_output = 'In Material Science, a \"heat sink\" is a material or device designed to absorb and dissipate heat efficiently, often used to manage thermal energy in electronic or mechanical systems.'\n",
    "heat_sink_ner_results = OBJ_ner_inf.infer_caption(heat_sink_prompt_output, MODEL_ner)\n",
    "h2_hs_action_words = remove_o_tag(heat_sink_ner_results, new_sub_hypothesis_terms)\n",
    "hypothesis_fractal[PRINCIPLE_HYPOTHESIS] = h2_hs_action_words\n",
    "h2_hs_action_words"
   ]
  },
  {
   "cell_type": "markdown",
   "metadata": {},
   "source": [
    "## For H3 Hypothesis we merge the Principle Hypothesis and H2 together. This pattern will continue for downstream hypothesis as well.\n",
    "\n",
    "The prompt now becomes:\n",
    "\n",
    "`For the sentences \"An alloy composed of Element [MASK] and Element [MASK] makes a good heat sink\", \"In Material Science, an \"alloy\" is a mixture of two or more elements, at least one of which is a metal, designed to achieve specific properties like improved strength, corrosion resistance, or thermal conductivity. what does \"thermal conductivity\" mean? Give short and direct answer.`"
   ]
  },
  {
   "cell_type": "code",
   "execution_count": 20,
   "metadata": {},
   "outputs": [
    {
     "data": {
      "text/plain": [
       "{'thermal conductivity': 'PRO', 'structure': 'PRO'}"
      ]
     },
     "execution_count": 20,
     "metadata": {},
     "output_type": "execute_result"
    }
   ],
   "source": [
    "h3_thermal = 'In Material Science, \"thermal conductivity\" is the ability of a material to transfer heat through its structure.'\n",
    "thermal_conductivitiy_ner_results = OBJ_ner_inf.infer_caption(h3_thermal, MODEL_ner)\n",
    "h3_tc_action_words = remove_o_tag(thermal_conductivitiy_ner_results, new_sub_hypothesis_terms)\n",
    "hypothesis_fractal[PRINCIPLE_HYPOTHESIS] = h3_tc_action_words\n",
    "h3_tc_action_words"
   ]
  },
  {
   "cell_type": "markdown",
   "metadata": {},
   "source": [
    "## Doing the Above but automating it as an evolving dictionary with many steps:\n",
    "\n",
    "> We will also ensure that this dictionary is ArangoDB Compatible to later visualize the `Fractal Hypothesis Knowledge Graph`."
   ]
  },
  {
   "cell_type": "code",
   "execution_count": 21,
   "metadata": {},
   "outputs": [],
   "source": [
    "from string import Template"
   ]
  },
  {
   "cell_type": "code",
   "execution_count": 22,
   "metadata": {},
   "outputs": [],
   "source": [
    "PRINCIPLE_HYPOTHESIS = \"An alloy composed of Element [MASK] and Element [MASK] makes a good heat sink\"\n",
    "PROMPT_TEMPALTE = Template('For the sentence \"$Hypothesis\". what does \"$keyword\" mean? Give short and direct answer.')\n",
    "\n",
    "fractal_hypothesis_graph = {0 : {\"H\" : PRINCIPLE_HYPOTHESIS, \"_keywords\" : {}}}"
   ]
  },
  {
   "cell_type": "code",
   "execution_count": null,
   "metadata": {},
   "outputs": [],
   "source": [
    "def update_graph(keyword:str, hypothesis:str):\n",
    "    pass"
   ]
  }
 ],
 "metadata": {
  "kernelspec": {
   "display_name": "matscibert",
   "language": "python",
   "name": "python3"
  },
  "language_info": {
   "codemirror_mode": {
    "name": "ipython",
    "version": 3
   },
   "file_extension": ".py",
   "mimetype": "text/x-python",
   "name": "python",
   "nbconvert_exporter": "python",
   "pygments_lexer": "ipython3",
   "version": "3.9.19"
  }
 },
 "nbformat": 4,
 "nbformat_minor": 2
}
