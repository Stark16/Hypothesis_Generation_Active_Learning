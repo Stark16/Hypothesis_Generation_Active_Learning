{
 "cells": [
  {
   "cell_type": "markdown",
   "metadata": {},
   "source": [
    "---\n",
    "# 1. Building the General Context Tree"
   ]
  },
  {
   "cell_type": "code",
   "execution_count": 3,
   "metadata": {},
   "outputs": [],
   "source": [
    "starting_keyword = \"thermal conductivity\"\n",
    "prompt_basic = \"\"\"can you give a general technical definition of this in a few line? \n",
    "                    If the word has multiple contexts stick to a single context. \n",
    "                    Simply state the techincal words in this definition, but don't define it.\n",
    "                    At the end of the defination list out the technical words in that statments in this format-\"tech_words=[a,b]\"\"\""
   ]
  },
  {
   "cell_type": "code",
   "execution_count": null,
   "metadata": {},
   "outputs": [],
   "source": [
    "class TreeNode:\n",
    "    def __init__(self, prompt, keyword, depth=0):\n",
    "        self.keyword = keyword\n",
    "        self.prompt = prompt + '-' + self.keyword\n",
    "        self.response = None\n",
    "        self.children = []\n",
    "        self.depth = depth\n",
    "        \n",
    "    def add_child(self, child_node):\n",
    "        self.children.append(child_node)\n",
    "\n",
    "    def __repr__(self):\n",
    "        return f\"TreeNode(prompt={self.prompt}, depth={self.depth})\""
   ]
  },
  {
   "cell_type": "code",
   "execution_count": null,
   "metadata": {},
   "outputs": [
    {
     "name": "stdout",
     "output_type": "stream",
     "text": [
      "can you give a general technical definition of this in a few line? \n",
      "                    If the word has multiple contexts stick to a single context. \n",
      "                    Simply state the techincal words in this definition, but don't define it.\n",
      "                    At the end of the defination list out the technical words in that statments in this format-\"tech_words=[a,b]-thermal conductivity\n"
     ]
    }
   ],
   "source": [
    "explored_keywords = set((starting_keyword))\n",
    "root_node = TreeNode(prompt=prompt_basic, keyword=starting_keyword, depth=0)"
   ]
  },
  {
   "cell_type": "code",
   "execution_count": null,
   "metadata": {},
   "outputs": [],
   "source": [
    "response = input(prompt)\n",
    "tech_wrods = response.split(\"tech_words=\")[1].replace(\"[\",\"\").replace(\"]\",\"\").split(\",\")\n",
    "print(\"tech_words=\", tech_wrods)\n",
    "for i in range(len(tech_wrods)):\n",
    "    tech_wrods[i] = tech_wrods[i].strip()"
   ]
  }
 ],
 "metadata": {
  "kernelspec": {
   "display_name": "Python 3",
   "language": "python",
   "name": "python3"
  },
  "language_info": {
   "codemirror_mode": {
    "name": "ipython",
    "version": 3
   },
   "file_extension": ".py",
   "mimetype": "text/x-python",
   "name": "python",
   "nbconvert_exporter": "python",
   "pygments_lexer": "ipython3",
   "version": "3.12.3"
  }
 },
 "nbformat": 4,
 "nbformat_minor": 2
}
